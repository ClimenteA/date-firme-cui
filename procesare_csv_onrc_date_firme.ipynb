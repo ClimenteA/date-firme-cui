{
 "cells": [
  {
   "cell_type": "code",
   "execution_count": 1,
   "id": "55ced383-739a-436b-92fb-8fcae6e191cb",
   "metadata": {},
   "outputs": [],
   "source": [
    "import os\n",
    "import re\n",
    "import glob\n",
    "import sqlite3\n",
    "import pandas as pd\n",
    "import numpy\n",
    "import json\n",
    "from unidecode import unidecode\n",
    "from functools import lru_cache\n",
    "import uuid\n",
    "from Levenshtein import distance"
   ]
  },
  {
   "cell_type": "code",
   "execution_count": 2,
   "id": "ec179efa-4649-4701-ba38-463ca4606826",
   "metadata": {},
   "outputs": [],
   "source": [
    "# https://data.gov.ro/dataset/firme-inregistrate-la-registrul-comertului-pana-la-data-de-07-iulie-2024\n",
    "csv_paths = glob.glob(\"firme-inregistrate-pana-la-07-iulie-2024/*\")"
   ]
  },
  {
   "cell_type": "code",
   "execution_count": 3,
   "id": "e31e7781-fb63-4706-a8f1-1d5663571f02",
   "metadata": {},
   "outputs": [],
   "source": [
    "# csv_nomeclator = csv_paths[1]\n",
    "# nomeclator_df = pd.read_csv(csv_nomeclator, sep=\"|\", encoding='latin2', encoding_errors='replace', on_bad_lines='skip')\n",
    "# lista_nomeclator = nomeclator_df[\"COD\"].tolist()"
   ]
  },
  {
   "cell_type": "code",
   "execution_count": 4,
   "id": "7a093adc-e294-49bc-88a7-5158a7e4e638",
   "metadata": {},
   "outputs": [
    {
     "data": {
      "text/plain": [
       "'firme-inregistrate-pana-la-07-iulie-2024/4firme_radiate_cu_sediu_2024-07-07.bigcsv'"
      ]
     },
     "execution_count": 4,
     "metadata": {},
     "output_type": "execute_result"
    }
   ],
   "source": [
    "csvpath = csv_paths[3]\n",
    "csvpath"
   ]
  },
  {
   "cell_type": "code",
   "execution_count": 5,
   "id": "cd0efa24-64f4-47d7-8d88-2ec59c82a6fb",
   "metadata": {},
   "outputs": [],
   "source": [
    "with open(\"localitati.json\", \"r\") as f:\n",
    "    localitati = json.load(f)"
   ]
  },
  {
   "cell_type": "code",
   "execution_count": 6,
   "id": "7f83edff-6811-42d8-8c8c-bf295461809e",
   "metadata": {},
   "outputs": [],
   "source": [
    "toate_judetele = list({i[\"judet\"] for i in localitati})\n",
    "toate_judetele_pattern = f\"{'|'.join([t.replace(\" \", \"-\") for t in toate_judetele])}\""
   ]
  },
  {
   "cell_type": "code",
   "execution_count": 7,
   "id": "127ed306-ed67-406c-91a5-d04e7c0e9bfa",
   "metadata": {},
   "outputs": [],
   "source": [
    "def get_cui(line):\n",
    "    \n",
    "    cui = \"\"\n",
    "\n",
    "    cui_8 = re.search(r\"\\d{8}\", line)\n",
    "    if cui_8:\n",
    "        cui = cui_8.group(0)\n",
    "\n",
    "    if not cui:\n",
    "        cui_srl = re.search(r\"SRL.*(\\d+).J\\d+\", line)\n",
    "        if cui_srl:\n",
    "            cui = cui_srl.group(0)\n",
    "\n",
    "    if not cui:\n",
    "        cui_pfa = re.search(r\"PERSOANA FIZICA AUTORIZATA.(\\d+).F\\d+\", line)\n",
    "        if cui_pfa:\n",
    "            cui = cui_pfa.group(0)\n",
    "    \n",
    "    if not cui:\n",
    "        cui_pfa_short = re.search(r\"PFA.(\\d+).F\\d+\", line)\n",
    "        if cui_pfa_short:\n",
    "            cui = cui_pfa_short.group(0)\n",
    "\n",
    "    return cui"
   ]
  },
  {
   "cell_type": "code",
   "execution_count": 8,
   "id": "44303a84-4731-4fb6-8af1-ae58cea37f5f",
   "metadata": {},
   "outputs": [],
   "source": [
    "def get_nr_reg_com(line):\n",
    "    \n",
    "    nr_reg_com = re.search(r\"ROONRC.*/\\d+/\\d\\d\\d\\d\", line)\n",
    "    if nr_reg_com:\n",
    "        nr_reg_com = nr_reg_com.group(0).replace(\"ROONRC.\", \"\")\n",
    "    else:\n",
    "        nr_reg_com = \"\"\n",
    "\n",
    "    return nr_reg_com\n",
    "    "
   ]
  },
  {
   "cell_type": "code",
   "execution_count": 9,
   "id": "0029afa2-8d60-435b-a7ad-e20966298d2f",
   "metadata": {},
   "outputs": [],
   "source": [
    "def get_nume(line):\n",
    "    nume = \"\"\n",
    "    \n",
    "    nume_srl = re.search(r\".* SRL\", line)\n",
    "    if nume_srl:\n",
    "        nume = nume_srl.group(0)\n",
    "\n",
    "    if not nume:\n",
    "        nume_pfa_long = re.search(r\".* PERSOANA FIZICA AUTORIZATA\", line)\n",
    "        if nume_pfa_long:\n",
    "            nume = nume_pfa_long.group(0)\n",
    "\n",
    "    if not nume:\n",
    "        nume_pfa_short = re.search(r\".* PFA\", line)\n",
    "        if nume_pfa_short:\n",
    "            nume = nume_pfa_short.group(0)\n",
    "    \n",
    "\n",
    "    return nume"
   ]
  },
  {
   "cell_type": "code",
   "execution_count": 17,
   "id": "2bda78c4-9eaa-478b-a895-71fdb4b52b79",
   "metadata": {},
   "outputs": [],
   "source": [
    "def get_code_location(adresa):\n",
    "    \n",
    "    # Get judet\n",
    "    latest_match_loc = None\n",
    "    latest_match_com = None\n",
    "    latest_match_jud = None\n",
    "    for loc in localitati:    \n",
    "        pattern_judet = re.sub(r'\\s+', r'[-\\\\s]+', loc[\"judet\"].replace(\"-\", \" \"))\n",
    "        match_judet = re.search(pattern_judet, adresa, re.IGNORECASE)\n",
    "        if not match_judet: continue\n",
    "        latest_match_jud = loc\n",
    "            \n",
    "        if loc[\"comuna\"]:\n",
    "            match_comuna = re.search(loc[\"comuna\"], adresa, re.IGNORECASE)\n",
    "            if not match_comuna: continue\n",
    "            latest_match_com = loc\n",
    "        \n",
    "        localitate = loc[\"localitate\"]\n",
    "        if \"SECTOR\" in localitate:\n",
    "            localitate = localitate.replace(\"SECTOR\", \"SECTORUL\")\n",
    "            \n",
    "        match_localitate = re.search(localitate, adresa, re.IGNORECASE)\n",
    "        if match_localitate: \n",
    "            latest_match_loc = loc\n",
    "            \n",
    "    # print(\"judet\", latest_match_jud)\n",
    "    # print(\"comuna\", latest_match_com)\n",
    "    # print(\"localitate\", latest_match_loc)\n",
    "    \n",
    "    if latest_match_loc:\n",
    "        return latest_match_loc\n",
    "    \n",
    "    if latest_match_com:\n",
    "        return latest_match_com\n",
    "    \n",
    "    if latest_match_jud:\n",
    "        return latest_match_jud\n",
    "\n",
    "    return None"
   ]
  },
  {
   "cell_type": "code",
   "execution_count": 18,
   "id": "561ba1b1-0c53-42cd-b831-e291cc61f8d7",
   "metadata": {},
   "outputs": [],
   "source": [
    "def get_adresa(line, nr_reg_com):\n",
    "    adresa = \"\"\n",
    "    cod = {\n",
    "        'value': '', \n",
    "        'cod': '', \n",
    "        'judet': '', \n",
    "        'comuna': '', \n",
    "        'localitate': ''\n",
    "    }\n",
    "    if nr_reg_com:\n",
    "        adresa = line.split(\"ROONRC.\" + nr_reg_com)[1].replace(\"^\", \" \").strip()\n",
    "        adresa = adresa.replace(\"***localitatea negasita***,\", \"\").replace(\"***localitatea negasita***\", \"\")\n",
    "        coduri_nomeclator = adresa.split(\" \")[0]\n",
    "        doar_coduri = all([item.isdigit() for item in coduri_nomeclator.split(\",\")])\n",
    "        if doar_coduri:\n",
    "            adresa = adresa.replace(coduri_nomeclator, \"\").strip()\n",
    "        adresa = re.sub(r\"\\s{2,}\", \" \", adresa)\n",
    "        cod = get_code_location(adresa)\n",
    "    \n",
    "    return adresa, cod"
   ]
  },
  {
   "cell_type": "code",
   "execution_count": 12,
   "id": "d092aee8-9158-4de4-a0db-c50836f0dc59",
   "metadata": {},
   "outputs": [],
   "source": [
    "def get_line_data(line):\n",
    "\n",
    "    line = unidecode(line.decode(\"utf-8\", errors=\"replace\"))\n",
    "    \n",
    "    if \"SRL^0^J\" in line or \"PFA^0^F\" in line or \"PERSOANA FIZICA AUTORIZATA^0^F\" in line:\n",
    "        return None\n",
    "\n",
    "    cui = get_cui(line)\n",
    "\n",
    "    if not cui.isdigit():\n",
    "        return None\n",
    "    \n",
    "    nr_reg_com = get_nr_reg_com(line)\n",
    "    nume = get_nume(line)\n",
    "    adresa, cod = get_adresa(line, nr_reg_com)\n",
    "\n",
    "    row = {\n",
    "        \"cui\": cui,\n",
    "        \"nume\": nume,\n",
    "        \"nr_reg_com\": nr_reg_com, \n",
    "        \"adresa\": adresa,\n",
    "    }\n",
    "\n",
    "    if all(row.values()):\n",
    "        if cod is not None: \n",
    "            row = {**row, **cod}\n",
    "        return row\n",
    "\n",
    "    return None"
   ]
  },
  {
   "cell_type": "code",
   "execution_count": null,
   "id": "03565c61-698b-47e9-92d3-5420ef136da8",
   "metadata": {},
   "outputs": [],
   "source": []
  },
  {
   "cell_type": "code",
   "execution_count": 19,
   "id": "25e290bf-0e11-48ef-8a90-4e56241cd953",
   "metadata": {
    "scrolled": true
   },
   "outputs": [
    {
     "name": "stdout",
     "output_type": "stream",
     "text": [
      "firme-inregistrate-pana-la-07-iulie-2024/1firme_neradiate_fara_sediu_2024-07-07.csv\n",
      "firme-inregistrate-pana-la-07-iulie-2024/2firme_radiate_fara_sediu_2024-07-07.csv\n",
      "firme-inregistrate-pana-la-07-iulie-2024/4firme_radiate_cu_sediu_2024-07-07.bigcsv\n",
      "firme-inregistrate-pana-la-07-iulie-2024/3firme_neradiate_cu_sediu_2024-07-07_.bigcsv\n",
      "CPU times: user 1d 6h 43min 55s, sys: 16.5 s, total: 1d 6h 44min 11s\n",
      "Wall time: 1d 6h 44min 37s\n"
     ]
    }
   ],
   "source": [
    "%%time\n",
    "\n",
    "conn = sqlite3.connect('date_firme_nume_cui.db')\n",
    "\n",
    "chunk_size = 50000\n",
    "for csvpath in csv_paths:\n",
    "    if \"nomenclator_stari_firma\" in csvpath:\n",
    "        continue\n",
    "\n",
    "    print(csvpath)\n",
    "    \n",
    "    with open(csvpath, \"rb\") as f:\n",
    "        lines = f.readlines()\n",
    "\n",
    "        rows = []\n",
    "        \n",
    "        for idx, line in enumerate(lines):\n",
    "            if idx == 0: continue\n",
    "\n",
    "            line_data = get_line_data(line)\n",
    "    \n",
    "            if line_data:\n",
    "                rows.append(line_data)\n",
    "            \n",
    "            if len(rows) >= chunk_size:\n",
    "                df = pd.DataFrame.from_records(rows)\n",
    "                df.set_index('cui', inplace=True)\n",
    "                df.to_sql('date_firme_nume_cui', conn, if_exists='append', index=True)\n",
    "                rows = []\n",
    "                \n",
    "conn.close()\n"
   ]
  },
  {
   "cell_type": "code",
   "execution_count": null,
   "id": "e1c0452b-bbfa-457e-9e21-b5f365811193",
   "metadata": {},
   "outputs": [],
   "source": []
  },
  {
   "cell_type": "code",
   "execution_count": null,
   "id": "26965dd9-03e1-48a6-87e7-5cc0f0753225",
   "metadata": {},
   "outputs": [],
   "source": []
  },
  {
   "cell_type": "code",
   "execution_count": null,
   "id": "db2a741f-2371-4a60-a8b0-d3bbe40c6ffb",
   "metadata": {},
   "outputs": [],
   "source": []
  },
  {
   "cell_type": "code",
   "execution_count": null,
   "id": "2b9bd529-0c6d-476a-91f7-1ec5b93d46b2",
   "metadata": {},
   "outputs": [],
   "source": []
  },
  {
   "cell_type": "code",
   "execution_count": null,
   "id": "d18c92ff-8623-4862-843d-9a433bf05a30",
   "metadata": {},
   "outputs": [],
   "source": []
  },
  {
   "cell_type": "code",
   "execution_count": null,
   "id": "f94c56bd-2516-4a97-b08b-48883c8fab0f",
   "metadata": {},
   "outputs": [],
   "source": []
  },
  {
   "cell_type": "code",
   "execution_count": null,
   "id": "897306fc-2023-49d2-a027-6bc894fef572",
   "metadata": {},
   "outputs": [],
   "source": []
  },
  {
   "cell_type": "code",
   "execution_count": null,
   "id": "6cdab7ec-7c8c-4404-8486-e959389fe806",
   "metadata": {},
   "outputs": [],
   "source": []
  }
 ],
 "metadata": {
  "kernelspec": {
   "display_name": "Python 3 (ipykernel)",
   "language": "python",
   "name": "python3"
  },
  "language_info": {
   "codemirror_mode": {
    "name": "ipython",
    "version": 3
   },
   "file_extension": ".py",
   "mimetype": "text/x-python",
   "name": "python",
   "nbconvert_exporter": "python",
   "pygments_lexer": "ipython3",
   "version": "3.12.3"
  }
 },
 "nbformat": 4,
 "nbformat_minor": 5
}
